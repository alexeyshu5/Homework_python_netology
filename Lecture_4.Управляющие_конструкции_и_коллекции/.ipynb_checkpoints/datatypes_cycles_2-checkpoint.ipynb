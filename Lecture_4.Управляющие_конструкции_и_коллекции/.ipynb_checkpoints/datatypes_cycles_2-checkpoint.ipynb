{
 "cells": [
  {
   "cell_type": "markdown",
   "metadata": {},
   "source": [
    "**Задание 1**. Дан список с визитами по городам и странам. \n",
    "Напишите код, который возвращает отфильтрованный список geo_logs, содержащий только визиты из России."
   ]
  },
  {
   "cell_type": "code",
   "execution_count": 13,
   "metadata": {},
   "outputs": [],
   "source": [
    "geo_logs = [\n",
    "    {'visit1': ['Москва', 'Россия']},\n",
    "    {'visit2': ['Дели', 'Индия']},\n",
    "    {'visit3': ['Владимир', 'Россия']},\n",
    "    {'visit4': ['Лиссабон', 'Португалия']},\n",
    "    {'visit5': ['Париж', 'Франция']},\n",
    "    {'visit6': ['Лиссабон', 'Португалия']},\n",
    "    {'visit7': ['Тула', 'Россия']},\n",
    "    {'visit8': ['Тула', 'Россия']},\n",
    "    {'visit9': ['Курск', 'Россия']},\n",
    "    {'visit10': ['Архангельск', 'Россия']}\n",
    "]"
   ]
  },
  {
   "cell_type": "code",
   "execution_count": 3,
   "metadata": {},
   "outputs": [
    {
     "name": "stdout",
     "output_type": "stream",
     "text": [
      "[{'visit1': ['Москва', 'Россия']}, {'visit3': ['Владимир', 'Россия']}, {'visit7': ['Тула', 'Россия']}, {'visit8': ['Тула', 'Россия']}, {'visit9': ['Курск', 'Россия']}, {'visit10': ['Архангельск', 'Россия']}]\n"
     ]
    }
   ],
   "source": [
    "geo_logs_new = []\n",
    "for x in geo_logs:\n",
    "    for y in x.values():\n",
    "        if y[1] == 'Россия':\n",
    "            geo_logs_new.append(x)\n",
    "print (geo_logs_new)"
   ]
  },
  {
   "cell_type": "code",
   "execution_count": 17,
   "metadata": {},
   "outputs": [
    {
     "name": "stdout",
     "output_type": "stream",
     "text": [
      "{'visit1': ['Москва', 'Россия']}\n",
      "{'visit3': ['Владимир', 'Россия']}\n",
      "{'visit7': ['Тула', 'Россия']}\n",
      "{'visit8': ['Тула', 'Россия']}\n",
      "{'visit9': ['Курск', 'Россия']}\n",
      "{'visit10': ['Архангельск', 'Россия']}\n"
     ]
    }
   ],
   "source": [
    "for log in geo_logs:\n",
    "    if list(log.values())[0][1] == 'Россия':\n",
    "        print (log)"
   ]
  },
  {
   "cell_type": "markdown",
   "metadata": {},
   "source": [
    "**Задание 2**. Выведите на экран все уникальные гео-ID из значений словаря ids. Т. е. список вида [213, 15, 54, 119, 98, 35]"
   ]
  },
  {
   "cell_type": "code",
   "execution_count": 21,
   "metadata": {},
   "outputs": [],
   "source": [
    "ids = {'user1': [213, 213, 213, 15, 213], \n",
    "       'user2': [54, 54, 119, 119, 119], \n",
    "       'user3': [213, 98, 98, 35]}"
   ]
  },
  {
   "cell_type": "code",
   "execution_count": 22,
   "metadata": {},
   "outputs": [
    {
     "name": "stdout",
     "output_type": "stream",
     "text": [
      "{98, 35, 15, 213, 54, 119}\n"
     ]
    }
   ],
   "source": [
    "ids_set = set()\n",
    "for id_ in ids.values():\n",
    "    ids_set = ids_set.union(id_) \n",
    "print(ids_set)"
   ]
  },
  {
   "cell_type": "code",
   "execution_count": 23,
   "metadata": {},
   "outputs": [
    {
     "name": "stdout",
     "output_type": "stream",
     "text": [
      "[213, 15, 54, 119, 98, 35]\n"
     ]
    }
   ],
   "source": [
    "numbers = []\n",
    "unique_numbers = []\n",
    "for a in ids.values():\n",
    "    numbers = a\n",
    "    for s in numbers:\n",
    "        if s not in unique_numbers:\n",
    "            unique_numbers.append(s)\n",
    "print (unique_numbers)"
   ]
  },
  {
   "cell_type": "markdown",
   "metadata": {},
   "source": [
    "**Задание 3**. Дан список поисковых запросов. Получить распределение количества слов в них. \n",
    "Т. е. поисковых запросов из одного - слова 5%, из двух - 7%, из трех - 3% и т.д."
   ]
  },
  {
   "cell_type": "code",
   "execution_count": 1,
   "metadata": {},
   "outputs": [],
   "source": [
    "queries = [\n",
    "    'смотреть сериалы онлайн',\n",
    "    'новости спорта',\n",
    "    'афиша кино',\n",
    "    'курс доллара',\n",
    "    'сериалы этим летом',\n",
    "    'курс по питону',\n",
    "    'сериалы про спорт',\n",
    "]"
   ]
  },
  {
   "cell_type": "code",
   "execution_count": 19,
   "metadata": {},
   "outputs": [
    {
     "name": "stdout",
     "output_type": "stream",
     "text": [
      "Поисковых запросов из 2 слов - 43 %\n",
      "Поисковых запросов из 3 слов - 57 %\n"
     ]
    }
   ],
   "source": [
    "len_queries = []\n",
    "\n",
    "for x in queries:\n",
    "    len_queries.append(len(x.split( )))\n",
    "new_set = set(len_queries)\n",
    "for y in new_set:\n",
    "    count_q = len_queries.count(y)\n",
    "    print (f'Поисковых запросов из {y} слов - {round(count_q / len(len_queries) * 100)} %')"
   ]
  },
  {
   "cell_type": "markdown",
   "metadata": {},
   "source": [
    "**Задание 4**. Дана статистика рекламных каналов по объемам продаж. Напишите скрипт, который возвращает название канала с максимальным объемом.\n",
    "Т. е. в данном примере скрипт должен возвращать 'yandex'."
   ]
  },
  {
   "cell_type": "code",
   "execution_count": 8,
   "metadata": {},
   "outputs": [],
   "source": [
    "stats = {'facebook': 55, 'yandex': 120, 'vk': 115, 'google': 99, 'email': 42, 'ok': 98}"
   ]
  },
  {
   "cell_type": "code",
   "execution_count": 9,
   "metadata": {},
   "outputs": [
    {
     "name": "stdout",
     "output_type": "stream",
     "text": [
      "yandex\n"
     ]
    }
   ],
   "source": [
    "keys = list(stats.keys())\n",
    "sales = list (stats.values())\n",
    "\n",
    "print(keys[sales.index(max(sales))])"
   ]
  },
  {
   "cell_type": "markdown",
   "metadata": {},
   "source": [
    "**Задание 5**. Напишите код для преобразования произвольного списка вида ['2018-01-01', 'yandex', 'cpc', 100] (он может быть любой длины) в словарь {'2018-01-01': {'yandex': {'cpc': 100}}}"
   ]
  },
  {
   "cell_type": "code",
   "execution_count": 10,
   "metadata": {},
   "outputs": [],
   "source": [
    "my_list = ['2018-01-01', 'yandex', 'cpc', 100]"
   ]
  },
  {
   "cell_type": "code",
   "execution_count": 11,
   "metadata": {},
   "outputs": [
    {
     "name": "stdout",
     "output_type": "stream",
     "text": [
      "{'2018-01-01': {'yandex': {'cpc': 100}}}\n"
     ]
    }
   ],
   "source": [
    "my_dict = {my_list[-2]: my_list[-1]}\n",
    "cut = my_list[: -2]\n",
    "cut.reverse()\n",
    "\n",
    "for i in cut:\n",
    "    my_dict = {i:my_dict}\n",
    "print(my_dict)"
   ]
  },
  {
   "cell_type": "code",
   "execution_count": null,
   "metadata": {},
   "outputs": [],
   "source": []
  }
 ],
 "metadata": {
  "kernelspec": {
   "display_name": "Python 3",
   "language": "python",
   "name": "python3"
  },
  "language_info": {
   "codemirror_mode": {
    "name": "ipython",
    "version": 3
   },
   "file_extension": ".py",
   "mimetype": "text/x-python",
   "name": "python",
   "nbconvert_exporter": "python",
   "pygments_lexer": "ipython3",
   "version": "3.7.6"
  }
 },
 "nbformat": 4,
 "nbformat_minor": 2
}
