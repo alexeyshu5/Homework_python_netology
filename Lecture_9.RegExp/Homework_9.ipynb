{
 "cells": [
  {
   "cell_type": "markdown",
   "metadata": {},
   "source": [
    "# Задание 1\n",
    "Напишите функцию, которая принимает на вход строку и проверяет является ли она валидным транспортным номером (1 буква, 3 цифры, 2 буквы, 2-3 цифры). Обратите внимание, что не все буквы кириллического алфавита используются в транспортных номерах.\n",
    "\n",
    "Если номер валиден, то функция должна возвращать отдельно номер и регион."
   ]
  },
  {
   "cell_type": "code",
   "execution_count": 1,
   "metadata": {},
   "outputs": [],
   "source": [
    "import re"
   ]
  },
  {
   "cell_type": "code",
   "execution_count": 9,
   "metadata": {},
   "outputs": [
    {
     "data": {
      "text/plain": [
       "('Номер: ', '589', 'Регион: ', '777')"
      ]
     },
     "execution_count": 9,
     "metadata": {},
     "output_type": "execute_result"
    }
   ],
   "source": [
    "def valid_num(number):\n",
    "    if re.findall(r'\\w{1}\\d{3}\\w{2}\\d{3}', number):\n",
    "        return('Номер: ', re.findall(r'\\d{3}', number)[0], 'Регион: ',  re.findall(r'\\d{3}', number)[1])\n",
    "    \n",
    "auto_valid('В589НК777')"
   ]
  },
  {
   "cell_type": "markdown",
   "metadata": {},
   "source": [
    "# Задание 2\n",
    "Напишите функцию, которая будет удалять все последовательные повторы слов из заданной строки при помощи регулярных выражений."
   ]
  },
  {
   "cell_type": "code",
   "execution_count": 15,
   "metadata": {},
   "outputs": [
    {
     "data": {
      "text/plain": [
       "['Домашнее',\n",
       " 'задание',\n",
       " 'к',\n",
       " 'лекции',\n",
       " '«',\n",
       " 'Регулярные',\n",
       " 'выражения',\n",
       " 'и',\n",
       " 'основы',\n",
       " 'синтаксического',\n",
       " 'разбора',\n",
       " '»']"
      ]
     },
     "execution_count": 15,
     "metadata": {},
     "output_type": "execute_result"
    }
   ],
   "source": [
    "from itertools import groupby\n",
    "line_ = 'Домашнее задание задание к лекции « Регулярные Регулярные выражения и основы основы синтаксического разбора »'\n",
    "def clean_line(example):\n",
    "    list_ = (re.split(r'[\\s.]', example))\n",
    "    new_list = [el for el, n in groupby(list_)]\n",
    "    return(new_list)\n",
    "clean_line(line_)"
   ]
  },
  {
   "cell_type": "markdown",
   "metadata": {},
   "source": [
    "# Задание 3\n",
    "Напишите функцию, которая будет возвращать акроним по переданной в нее строке со словами."
   ]
  },
  {
   "cell_type": "code",
   "execution_count": 43,
   "metadata": {},
   "outputs": [
    {
     "data": {
      "text/plain": [
       "'ЧГК'"
      ]
     },
     "execution_count": 43,
     "metadata": {},
     "output_type": "execute_result"
    }
   ],
   "source": [
    "def acr(words):\n",
    "    acronym = []\n",
    "    words_new = re.split(r'\\s', words)\n",
    "    for x in words_new:\n",
    "        y = re.findall(r'\\w{1}', x)\n",
    "        acronym.append(y[0])\n",
    "    string = ''.join(acronym)\n",
    "    return string.upper()\n",
    "acr('что где когда')"
   ]
  },
  {
   "cell_type": "markdown",
   "metadata": {},
   "source": [
    "# Задание 4\n",
    "Напишите функцию, которая будет принимать на вход список email-адресов и выводить их распределение по доменным зонам."
   ]
  },
  {
   "cell_type": "code",
   "execution_count": 6,
   "metadata": {},
   "outputs": [
    {
     "data": {
      "text/plain": [
       "Counter({'@gmail.com': 2, '@test.in': 1, '@ya.ru': 3, '@mail.ru': 1})"
      ]
     },
     "execution_count": 6,
     "metadata": {},
     "output_type": "execute_result"
    }
   ],
   "source": [
    "def count_emails(list_emails):\n",
    "    from collections import Counter\n",
    "    web = []\n",
    "    for x in list_emails:\n",
    "        y = re.findall(r'@\\S{1,20}', x)\n",
    "        web.append(''.join(y))\n",
    "    c = Counter(web)\n",
    "    return c\n",
    "count_emails(['test@gmail.com', 'xyz@test.in', 'test@ya.ru', 'xyz@mail.ru', 'xyz@ya.ru', 'xyz@gmail.com', 'test@ya.ru'])"
   ]
  }
 ],
 "metadata": {
  "kernelspec": {
   "display_name": "Python 3",
   "language": "python",
   "name": "python3"
  },
  "language_info": {
   "codemirror_mode": {
    "name": "ipython",
    "version": 3
   },
   "file_extension": ".py",
   "mimetype": "text/x-python",
   "name": "python",
   "nbconvert_exporter": "python",
   "pygments_lexer": "ipython3",
   "version": "3.7.6"
  }
 },
 "nbformat": 4,
 "nbformat_minor": 4
}
