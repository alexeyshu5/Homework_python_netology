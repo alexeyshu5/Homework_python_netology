{
 "cells": [
  {
   "cell_type": "markdown",
   "metadata": {},
   "source": [
    "# Задание 1\n",
    "Печатные газеты использовали свой формат дат для каждого выпуска. Для каждой газеты из списка напишите формат указанной даты для перевода в объект datetime:\n",
    "The Moscow Times - Wednesday, October 2, 2002\n",
    "The Guardian - Friday, 11.10.13\n",
    "Daily News - Thursday, 18 August 1977"
   ]
  },
  {
   "cell_type": "code",
   "execution_count": 11,
   "metadata": {},
   "outputs": [],
   "source": [
    "from datetime import datetime\n",
    "moscow_times = 'Wednesday, October 2, 2002'\n",
    "guardian = 'Friday, 11.10.13'\n",
    "daily_news = 'Thursday, 18 August 1977'"
   ]
  },
  {
   "cell_type": "code",
   "execution_count": 16,
   "metadata": {},
   "outputs": [],
   "source": [
    "format_mt = datetime.strptime(moscow_times, '%A, %B %d, %Y')\n",
    "format_g = datetime.strptime(guardian, '%A, %d.%m.%y')\n",
    "format_dn = datetime.strptime(daily_news, '%A, %d %B %Y')"
   ]
  },
  {
   "cell_type": "markdown",
   "metadata": {},
   "source": [
    "# Задание 2\n",
    "Дан поток дат в формате YYYY-MM-DD, в которых встречаются некорректные значения:\n",
    "stream = [‘2018-04-02’, ‘2018-02-29’, ‘2018-19-02’]\n",
    "\n",
    "Напишите функцию, которая проверяет эти даты на корректность. Т. е. для каждой даты возвращает True (дата корректна) или False (некорректная дата)."
   ]
  },
  {
   "cell_type": "code",
   "execution_count": 40,
   "metadata": {},
   "outputs": [],
   "source": [
    "from datetime import datetime\n",
    "stream = ['2018-04-02', '2018-02-29', '2018-19-02', '2020-02-29', '2015-01-01', '2020-05-15']"
   ]
  },
  {
   "cell_type": "code",
   "execution_count": 45,
   "metadata": {},
   "outputs": [
    {
     "name": "stdout",
     "output_type": "stream",
     "text": [
      "2018-04-02 00:00:00 True\n",
      "2018-02-29 False\n",
      "2018-19-02 False\n",
      "2020-02-29 00:00:00 True\n",
      "2015-01-01 00:00:00 True\n",
      "2020-05-15 00:00:00 True\n"
     ]
    }
   ],
   "source": [
    "def test():\n",
    "    for x in stream:\n",
    "        try: \n",
    "            new_date = datetime.strptime(x, '%Y-%m-%d')\n",
    "            print (new_date, True)\n",
    "        except:\n",
    "            print (x, False)\n",
    "test()"
   ]
  },
  {
   "cell_type": "markdown",
   "metadata": {},
   "source": [
    "# Задание 3\n",
    "Напишите функцию date_range, которая возвращает список дат за период от start_date до end_date. Даты должны вводиться в формате YYYY-MM-DD. В случае неверного формата или при start_date > end_date должен возвращаться пустой список."
   ]
  },
  {
   "cell_type": "code",
   "execution_count": 1,
   "metadata": {},
   "outputs": [],
   "source": [
    "from datetime import datetime\n",
    "from datetime import timedelta"
   ]
  },
  {
   "cell_type": "code",
   "execution_count": 4,
   "metadata": {},
   "outputs": [
    {
     "name": "stdout",
     "output_type": "stream",
     "text": [
      "Введите начальную дату в формате YYYY-MM-DD: 2018-05-10\n",
      "Введите конечную дату в формате YYYY-MM-DD: 2018-05-14\n",
      "2018-05-10 00:00:00\n",
      "2018-05-11 00:00:00\n",
      "2018-05-12 00:00:00\n",
      "2018-05-13 00:00:00\n",
      "2018-05-14 00:00:00\n"
     ]
    }
   ],
   "source": [
    "def date_range():\n",
    "    user_start = input('Введите начальную дату в формате YYYY-MM-DD: ')\n",
    "    user_end = input('Введите конечную дату в формате YYYY-MM-DD: ')\n",
    "    empty_list = []\n",
    "\n",
    "    try:\n",
    "        start_date = datetime.strptime(user_start, '%Y-%m-%d')\n",
    "        end_date = datetime.strptime(user_end, '%Y-%m-%d')\n",
    "        current_date = start_date\n",
    "        if start_date > end_date:\n",
    "            print (empty_list)\n",
    "        else:\n",
    "            while current_date <= end_date:\n",
    "                print (current_date)\n",
    "                current_date += timedelta(days=1)\n",
    "    except:\n",
    "        print (empty_list)\n",
    "date_range()"
   ]
  },
  {
   "cell_type": "code",
   "execution_count": null,
   "metadata": {},
   "outputs": [],
   "source": []
  }
 ],
 "metadata": {
  "kernelspec": {
   "display_name": "Python 3",
   "language": "python",
   "name": "python3"
  },
  "language_info": {
   "codemirror_mode": {
    "name": "ipython",
    "version": 3
   },
   "file_extension": ".py",
   "mimetype": "text/x-python",
   "name": "python",
   "nbconvert_exporter": "python",
   "pygments_lexer": "ipython3",
   "version": "3.7.6"
  }
 },
 "nbformat": 4,
 "nbformat_minor": 4
}
