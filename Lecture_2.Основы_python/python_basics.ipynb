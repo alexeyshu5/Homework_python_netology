{
 "cells": [
  {
   "cell_type": "markdown",
   "metadata": {},
   "source": [
    "**Задание 1**. Даны 2 строки: *long_phrase* и *short_phrase*. \n",
    "Напишите код, который проверяет действительно ли длинная фраза *long_phrase* длиннее короткой *short_phrase*. И выводит *True* или *False* в зависимости от результата сравнения."
   ]
  },
  {
   "cell_type": "code",
   "execution_count": 1,
   "metadata": {},
   "outputs": [],
   "source": [
    "long_phrase = 'Насколько проще было бы писать программы, если бы не заказчики'\n",
    "short_phrase = '640Кб должно хватить для любых задач. Билл Гейтс (по легенде)'"
   ]
  },
  {
   "cell_type": "code",
   "execution_count": 2,
   "metadata": {},
   "outputs": [
    {
     "name": "stdout",
     "output_type": "stream",
     "text": [
      "True\n"
     ]
    }
   ],
   "source": [
    "if len (long_phrase) > len (short_phrase):\n",
    "    print (True)\n",
    "else:\n",
    "    print (False)"
   ]
  },
  {
   "cell_type": "markdown",
   "metadata": {},
   "source": [
    "**Задание 2**. Дано значение объема файла в байтах (*в мегабайте 2^20 байт*). Напишите перевод этого значения в мегабайты в формате: \"*Объем файла равен 213.68Mb*\"."
   ]
  },
  {
   "cell_type": "code",
   "execution_count": 3,
   "metadata": {},
   "outputs": [
    {
     "name": "stdout",
     "output_type": "stream",
     "text": [
      "Введине объём файла в байтах: 1048999\n",
      "Объем файла равен:  1.0004034042358398  Mb\n"
     ]
    }
   ],
   "source": [
    "byte = int(input('Введине объём файла в байтах: '))\n",
    "\n",
    "if byte > 0:\n",
    "    print ('Объем файла равен: ', byte / (2**20), ' Mb')"
   ]
  },
  {
   "cell_type": "markdown",
   "metadata": {},
   "source": [
    "**Задание 3**. Разработать приложение для определения знака зодиака по дате рождения. Пример:\n",
    "\n",
    "Введите месяц: март\n",
    "\n",
    "Введите число: 6\n",
    "\n",
    "Вывод:\n",
    "Рыбы"
   ]
  },
  {
   "cell_type": "code",
   "execution_count": 6,
   "metadata": {},
   "outputs": [
    {
     "name": "stdout",
     "output_type": "stream",
     "text": [
      "Введите месяц август\n",
      "Введите число 28\n",
      "Дева\n"
     ]
    }
   ],
   "source": [
    "month = input('Введите месяц ')\n",
    "day = int(input('Введите число '))\n",
    "if month.lower() == 'январь' and day >= 20 and day < 31:\n",
    "    print ('Водолей')\n",
    "elif month.lower() == 'февраль' and day <= 19 and day < 29:\n",
    "    print ('Водолей')\n",
    "elif month.lower() == 'февраль' and day >= 20 and day < 29:\n",
    "    print ('Рыбы')\n",
    "elif month.lower() == 'март' and day <= 20 and day < 31:\n",
    "    print ('Рыбы')\n",
    "elif month.lower() == 'март' and day >= 21 and day < 31:\n",
    "    print ('Овен')\n",
    "elif month.lower() == 'апрель' and day <= 19 and day < 30:\n",
    "    print ('Овен')\n",
    "elif month.lower() == 'апрель' and day >= 20 and day < 30:\n",
    "    print ('Телец')\n",
    "elif month.lower() == 'май' and day <= 20 and day < 31:\n",
    "    print ('Телец')\n",
    "elif month.lower() == 'май' and day >= 21 and day < 31:\n",
    "    print ('Близнецы')\n",
    "elif month.lower() == 'июнь' and day <= 20 and day < 30:\n",
    "    print ('Близнецы')\n",
    "elif month.lower() == 'июнь' and day >= 21 and day < 30:\n",
    "    print ('Рак')\n",
    "elif month.lower() == 'июль' and day <= 22 and day < 31:\n",
    "    print ('Рак')\n",
    "elif month.lower() == 'июль' and day >= 23 and day < 31:\n",
    "    print ('Лев')\n",
    "elif month.lower() == 'август' and day <= 22 and day < 31:\n",
    "    print ('Лев')\n",
    "elif month.lower() == 'август' and day >= 23 and day < 31:\n",
    "    print ('Дева')\n",
    "elif month.lower() == 'сентябрь' and day <= 22 and day < 30:\n",
    "    print ('Дева')\n",
    "elif month.lower() == 'сентябрь' and day >= 23 and day < 30:\n",
    "    print ('Весы')\n",
    "elif month.lower() == 'октябрь' and day <= 23 and day < 31:\n",
    "    print ('Весы')\n",
    "elif month.lower() == 'октябрь' and day >= 24 and day < 31:\n",
    "    print ('Скорпион')\n",
    "elif month.lower() == 'ноябрь' and day <= 22 and day < 30:\n",
    "    print ('Скорпион')\n",
    "elif month.lower() == 'ноябрь' and day >= 23 and day < 30:\n",
    "    print ('Стрелец')\n",
    "elif month.lower() == 'декабрь' and day <= 21 and day < 31:\n",
    "    print ('Стрелец')\n",
    "elif month.lower() == 'декабрь' and day >= 22 and day < 31:\n",
    "    print ('Козерог')\n",
    "elif month.lower() == 'январь' and day <= 19 and day < 31:\n",
    "    print ('Козерог')\n",
    "else:\n",
    "    print ('Ошибка ввода')"
   ]
  },
  {
   "cell_type": "markdown",
   "metadata": {},
   "source": [
    "**Задание 4**. Нужно разработать приложение для финансового планирования.\n",
    "Приложение учитывает сколько уходит на ипотеку, \"на жизнь\" и сколько нужно отложить на пенсию.\n",
    "Пользователь вводит:\n",
    "- заработанную плату в месяц.\n",
    "- сколько процентов от ЗП уходит на ипотеку.\n",
    "- сколько процентов от ЗП уходит \"на жизнь\".\n",
    "- сколько раз приходит премия в год.\n",
    "\n",
    "Остальная часть заработанной платы откладывается на пенсию.\n",
    "\n",
    "Также пользователю приходит премия в размере зарплаты, от которой половина уходит на отпуск, а вторая половина откладывается.\n",
    "\n",
    "Программа должна учитывать сколько премий было в год.\n",
    "\n",
    "Нужно вывести сколько денег тратит пользователь на ипотеку и сколько он накопит за год.\n",
    "\n",
    "Пример:\n",
    "\n",
    "Введите заработанную плату в месяц: 100000\n",
    "\n",
    "Введите сколько процентов уходит на ипотеку: 30\n",
    "\n",
    "Введите сколько процентов уходит на жизнь: 50\n",
    "\n",
    "Введите количество премий за год: 2\n",
    "\n",
    "Вывод:\n",
    "На ипотеку было потрачено: 360000 рублей\n",
    "Было накоплено: 340000 рублей"
   ]
  },
  {
   "cell_type": "code",
   "execution_count": 10,
   "metadata": {},
   "outputs": [
    {
     "name": "stdout",
     "output_type": "stream",
     "text": [
      "Введите заработанную плату в месяц 100000\n",
      "Введите сколько процентов уходит на ипотеку 30\n",
      "Введите сколько процентов уходит на жизнь 50\n",
      "Введите количество премий за год 2\n",
      "На ипотеку было потрачено:  360000.0 рублей Было накоплено:  340000.0 рублей\n"
     ]
    }
   ],
   "source": [
    "salary_month = int(input('Введите заработанную плату в месяц '))\n",
    "percent_mortgage = int(input('Введите сколько процентов уходит на ипотеку '))\n",
    "needs = int(input('Введите сколько процентов уходит на жизнь '))\n",
    "bonus = int(input('Введите количество премий за год '))\n",
    "\n",
    "mortgage_sum_month = ((salary_month * percent_mortgage) / 100)\n",
    "needs_sum_month = ((salary_month * needs) / 100)\n",
    "capital_year_bonus = ((salary_month - needs_sum_month - mortgage_sum_month) * 12) + ((salary_month * bonus) / 2)\n",
    "capital_year_nobonus = ((salary_month - needs_sum_month - mortgage_sum_month) * 12)\n",
    "\n",
    "\n",
    "if bonus > 0:\n",
    "    print ('На ипотеку было потрачено: ', mortgage_sum_month * 12, 'рублей', 'Было накоплено: ', capital_year_bonus, 'рублей')\n",
    "else:\n",
    "    print ('На ипотеку было потрачено: ', mortgage_sum_month * 12, 'рублей', 'Было накоплено: ', capital_year_nobonus, 'рублей',)"
   ]
  },
  {
   "cell_type": "code",
   "execution_count": null,
   "metadata": {},
   "outputs": [],
   "source": []
  }
 ],
 "metadata": {
  "kernelspec": {
   "display_name": "Python 3",
   "language": "python",
   "name": "python3"
  },
  "language_info": {
   "codemirror_mode": {
    "name": "ipython",
    "version": 3
   },
   "file_extension": ".py",
   "mimetype": "text/x-python",
   "name": "python",
   "nbconvert_exporter": "python",
   "pygments_lexer": "ipython3",
   "version": "3.7.6"
  }
 },
 "nbformat": 4,
 "nbformat_minor": 2
}
