{
 "cells": [
  {
   "cell_type": "markdown",
   "metadata": {},
   "source": [
    "Вы работаете секретарем и вам постоянно приходят различные документы. Вы должны быть очень внимательны, чтобы не потерять ни один документ. Каталог документов хранится в следующем виде:"
   ]
  },
  {
   "cell_type": "code",
   "execution_count": 2,
   "metadata": {},
   "outputs": [],
   "source": [
    "documents = [\n",
    "    {'type': 'passport', 'number': '2207 876234', 'name': 'Василий Гупкин'},\n",
    "    {'type': 'invoice', 'number': '11-2', 'name': 'Геннадий Покемонов'},\n",
    "    {'type': 'insurance', 'number': '10006', 'name': 'Аристарх Павлов'}\n",
    "]"
   ]
  },
  {
   "cell_type": "markdown",
   "metadata": {},
   "source": [
    "Перечень полок, на которых находятся документы хранится в следующем виде:"
   ]
  },
  {
   "cell_type": "code",
   "execution_count": 3,
   "metadata": {},
   "outputs": [],
   "source": [
    "directories = {\n",
    "    '1': ['2207 876234', '11-2'],\n",
    "    '2': ['10006'],\n",
    "    '3': []\n",
    "}"
   ]
  },
  {
   "cell_type": "markdown",
   "metadata": {},
   "source": [
    "Необходимо реализовать пользовательские команды (внимание! это не название функций, которые должны быть выразительными, а команды, которые вводит пользователь, чтобы получить необходимый результат):\n",
    "  \n",
    "- p – people – команда, которая спросит номер документа и выведет имя человека, которому он принадлежит;  \n",
    "- s – shelf – команда, которая спросит номер документа и выведет номер полки, на которой он находится  \n",
    "*Правильно обработайте ситуации, когда пользователь будет вводить несуществующий документ*.\n",
    "- l – list – команда, которая выведет список всех документов в формате   \n",
    "**passport \"2207 876234\" \"Василий Гупкин\"**  \n",
    "- as – add shelf – команда, которая спросит номер новой полки и добавит ее в перечень. *Предусмотрите случай, когда пользователь добавляет полку, которая уже существует*.\n",
    "- d – delete – команда, которая спросит номер документа и удалит его из каталога и из перечня полок. *Предусмотрите сценарий, когда пользователь вводит несуществующий документ*;  \n",
    "- m – move – команда, которая спросит номер документа и целевую полку и переместит его с текущей полки на целевую. *Корректно обработайте кейсы, когда пользователь пытается переместить несуществующий документ или переместить документ на несуществующую полку*;  \n",
    "- a – add – команда, которая добавит новый документ в каталог и в перечень полок, спросив его номер, тип, имя владельца и номер полки, на котором он будет храниться. *Корректно обработайте ситуацию, когда пользователь будет пытаться добавить документ на несуществующую полку*."
   ]
  },
  {
   "cell_type": "code",
   "execution_count": 5,
   "metadata": {},
   "outputs": [
    {
     "name": "stdout",
     "output_type": "stream",
     "text": [
      "Введите команду: l\n",
      " passport, \"2207 876234\", \"Василий Гупкин\"\n",
      " invoice, \"11-2\", \"Геннадий Покемонов\"\n",
      " insurance, \"10006\", \"Аристарх Павлов\"\n",
      " \n"
     ]
    }
   ],
   "source": [
    "def people():\n",
    "    user_input = input('Введите номер документа: ')\n",
    "    for numbers in documents:\n",
    "        if user_input == numbers['number']:\n",
    "            return numbers['name']\n",
    "    else:\n",
    "        return \"Документа не существует\"\n",
    "        \n",
    "def shelf():\n",
    "    user_input_1 = input('Введите номер документа: ')\n",
    "    for numbers_1 in directories.items():\n",
    "        if user_input_1 in numbers_1[1]:\n",
    "            return numbers_1[0]\n",
    "    else: \n",
    "        return 'Некорректный ввод.'\n",
    "    \n",
    "def list_():\n",
    "    for n in(documents):\n",
    "        print (f' {n[\"type\"]}, \"{n[\"number\"]}\", \"{n[\"name\"]}\"')\n",
    "    return ' '\n",
    "        \n",
    "def add_shelf():\n",
    "    user_input_2 = input('Введите номер полки: ')\n",
    "    if user_input_2 in directories.keys():\n",
    "        return 'Полка уже существует'\n",
    "    else:\n",
    "        directories.setdefault(user_input_2, [])\n",
    "        return 'Полка добавлена'\n",
    "    \n",
    "def del_doc(docs, shelves):\n",
    "    del_docum = input('Удалить документ №  ')\n",
    "    for el in docs:\n",
    "        if del_docum == el['number']:\n",
    "            docs.remove(el)\n",
    "    for key, value in shelves.items():\n",
    "        for doc in value:\n",
    "            if doc == del_docum:\n",
    "                value.remove(doc)    \n",
    "                return shelves\n",
    "    return 'документ не найден'\n",
    "\n",
    "def move_doc(shelves):\n",
    "    doc_to_move = input('Введите номер документа ')\n",
    "    shelf_to_move = input('На какую полку? ')\n",
    "    if shelf_to_move not in shelves.keys():\n",
    "        return 'полка не найдена'\n",
    "    for key, value in shelves.items():\n",
    "        for doc in value:\n",
    "            if doc == doc_to_move:\n",
    "                value.remove(doc)\n",
    "        if key == shelf_to_move and doc == doc_to_move:\n",
    "            value.append(doc_to_move)\n",
    "    return directories\n",
    "    \n",
    "def add_():\n",
    "    doc_name = input('Введите ФИО: ')\n",
    "    doc_type = input('Введите тип документа: ')\n",
    "    doc_number = input('Введите номер документа: ')\n",
    "    shelf_into = input('Введите номер полки: ')\n",
    "    for key, value in directories.items():\n",
    "        if key == shelf_into:\n",
    "            value.append(doc_number)\n",
    "            documents.append({'type': doc_type, 'number': doc_number, 'name': doc_name})\n",
    "            return directories \n",
    "    return 'полка не найдена'\n",
    "\n",
    "def user_com():\n",
    "    user_input = input('Введите команду: ')\n",
    "    if user_input == 'p':\n",
    "        print(people())        \n",
    "    elif user_input == 's':\n",
    "         print(shelf())\n",
    "    elif user_input == 'l':\n",
    "         print(list_())\n",
    "    elif user_input == 'as':\n",
    "          print(add_shelf())\n",
    "    elif user_input == 'd':\n",
    "           print(del_doc(documents, directories))\n",
    "    elif user_input == 'm':\n",
    "         print(move_doc(directories))\n",
    "    elif user_input == 'a':\n",
    "        print(add_())\n",
    "            \n",
    "user_com()"
   ]
  },
  {
   "cell_type": "code",
   "execution_count": null,
   "metadata": {},
   "outputs": [],
   "source": []
  }
 ],
 "metadata": {
  "kernelspec": {
   "display_name": "Python 3",
   "language": "python",
   "name": "python3"
  }
 },
 "nbformat": 4,
 "nbformat_minor": 2
}
